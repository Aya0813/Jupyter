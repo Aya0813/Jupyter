{
 "cells": [
  {
   "cell_type": "markdown",
   "id": "1d7ad7e5",
   "metadata": {},
   "source": [
    "### Pre processing of our data"
   ]
  },
  {
   "cell_type": "markdown",
   "id": "917a13f5",
   "metadata": {},
   "source": [
    "Importing all the necessary libraries:"
   ]
  },
  {
   "cell_type": "code",
   "execution_count": 330,
   "id": "4eaba175",
   "metadata": {},
   "outputs": [],
   "source": [
    "#from rec3 \n",
    "import numpy as np\n",
    "import pandas as pd\n",
    "import seaborn as sns\n",
    "import matplotlib.pyplot as plt\n",
    "from sklearn.linear_model import LinearRegression\n",
    "from sklearn.model_selection import train_test_split\n",
    "from sklearn.metrics import r2_score, mean_squared_error\n",
    "\n",
    "\n",
    "from sklearn.naive_bayes import GaussianNB\n",
    "from sklearn.preprocessing import StandardScaler\n",
    "from sklearn.pipeline import make_pipeline\n",
    "import seaborn as sns\n",
    "from sklearn import metrics\n",
    "%matplotlib inline\n"
   ]
  },
  {
   "cell_type": "code",
   "execution_count": 331,
   "id": "cb399152",
   "metadata": {},
   "outputs": [],
   "source": [
    "techSalaries = pd.read_csv(\"techSalaries2017.csv\") # load data "
   ]
  },
  {
   "cell_type": "code",
   "execution_count": 332,
   "id": "cd09dd71",
   "metadata": {},
   "outputs": [],
   "source": [
    "# visualising our data\n",
    "techSalaries\n",
    "# df.columns = df.columns.str.replace(' ', '')\n",
    "# Print the first 5 examples to see how the data looks.\n",
    "# head returns the first 5 values in the dataframe \n",
    "# techSalaries.head()\n",
    "# techSalaries.shape   # 62642 rows and 27 columns\n",
    "\n",
    "quant_var = pd.DataFrame(techSalaries)\n"
   ]
  },
  {
   "cell_type": "code",
   "execution_count": 333,
   "id": "65342578",
   "metadata": {
    "scrolled": true
   },
   "outputs": [
    {
     "name": "stdout",
     "output_type": "stream",
     "text": [
      "N = 62642 data points\n"
     ]
    }
   ],
   "source": [
    "#Only use quantitave variables and drop any rows with missing values\n",
    "    # dropna -> drops missing values\n",
    "    # dropping variables 1-3 (Restrict those models to quantitative data only)\n",
    "    # drop the column of high school \n",
    "    # drop the column of black race \n",
    "basesalary = techSalaries['basesalary']\n",
    "\n",
    "quant_var = techSalaries.drop(columns=['company', 'title', 'location','Race_Black','Highschool','basesalary','stockgrantvalue','bonus'], axis=1)\n",
    "gender_data = quant_var['gender']\n",
    "\n",
    "\n",
    "# Drop only rows with all missing values \n",
    "quant_var = quant_var.dropna(how='all',axis=0)\n",
    "\n",
    "# the number of data points \n",
    "N = len(quant_var) # The number of data points.\n",
    "print ('N = {:d} data points'.format(N))\n",
    "\n",
    "# drop only rows with missing rows values in column 22 (Education)\n",
    "# quant_var = quant_var.dropna(subset=['Education'],axis=0)\n",
    "# # drop only rows with missing rows values in column 21 (Race)\n",
    "# quant_var = quant_var.dropna(subset=['Race'],axis=0)"
   ]
  },
  {
   "cell_type": "code",
   "execution_count": 334,
   "id": "0bcdd28a",
   "metadata": {},
   "outputs": [
    {
     "data": {
      "text/plain": [
       "0         NaN\n",
       "1         NaN\n",
       "2         NaN\n",
       "3         NaN\n",
       "4         NaN\n",
       "         ... \n",
       "62637     NaN\n",
       "62638     NaN\n",
       "62639     NaN\n",
       "62640     NaN\n",
       "62641    Male\n",
       "Name: gender, Length: 62642, dtype: object"
      ]
     },
     "execution_count": 334,
     "metadata": {},
     "output_type": "execute_result"
    }
   ],
   "source": [
    "gender_data\n",
    "#['Male'] = np.where(quant_var['gender']=='Male', 1, 0)\n"
   ]
  },
  {
   "cell_type": "code",
   "execution_count": 335,
   "id": "cc261a7a",
   "metadata": {},
   "outputs": [],
   "source": [
    "# cross validation \n",
    "# splitting our data into training and testing\n",
    "# X_train, X_test, y_train, y_test = train_test_split(X, y, test_size=0.2, shuffle = True)\n"
   ]
  },
  {
   "cell_type": "code",
   "execution_count": 311,
   "id": "a3bac0c7",
   "metadata": {},
   "outputs": [],
   "source": [
    "# plot our data (using scatter plot thingy)\n",
    "\n",
    "# sns.scatterplot(x='X4 number of convenience stores',y='Y house price of unit area', data=df)\n",
    "# random_seed = numpy.random.randint(0,100)\n",
    "# random_seed = 65\n",
    "\n",
    "# quant_var, y = quant_var(n_samples=2000, centers=2, n_features=2, random_state=random_seed)\n",
    "# fig = plt.figure()\n",
    "# # plt.plot(quant_var,y,'o',markersize=5)\n",
    "\n",
    "# # plt.scatter(quant_var[:,0], quant_var[:,1])\n",
    "# plt.show()"
   ]
  },
  {
   "cell_type": "markdown",
   "id": "06db0a33",
   "metadata": {},
   "source": [
    "## Question 1 \n",
    "Using multiple linear regression: What is the best predictor of total annual compensation, how much variance is explained by this predictor vs. the full multiple regression model?\n"
   ]
  },
  {
   "cell_type": "code",
   "execution_count": 312,
   "id": "b3cbae4c",
   "metadata": {},
   "outputs": [],
   "source": [
    "#load data - same data for training and testing \n",
    "\n",
    "# part 1: finding the best predictor of total annual compensation\n",
    "    # Do *not* include variables 5, 6 or 7 -> to drop   \n",
    "    # drop race and education variables (as they are qualitative)\n",
    "\n",
    "    \n",
    "# # drop all the variables 11 -15 and teh race ones as well \n",
    "    # # do linear regression for each get the RSS \n",
    "    #     # FIND best one \n",
    "    # # do multi linear regression -> lab2 \n",
    "    #     # compare RSS \n"
   ]
  },
  {
   "cell_type": "code",
   "execution_count": 313,
   "id": "69a74785",
   "metadata": {},
   "outputs": [],
   "source": [
    "# linear regression for each predictor \n",
    "# i can use REC3 ->  linear regression \n",
    "# After removing all the predictors that would not be relevant for \n",
    "# predicting totalyearlycompensation\n",
    "    # we are left with : \n",
    "        # yearsofexperience\n",
    "        # yearsatcompany\n",
    "        # Age \n",
    "        # Height\n",
    "        # Zodiac\n",
    "        # SAT \n",
    "        # GPA \n",
    "\n",
    "# to do later -> only leabe the above variables relevant to totalyearlycompensation\n",
    "# and plot them using function bellow \n",
    "# sns.heatmap(quant_var.corr(),annot=True)\n",
    "# plt.show()\n"
   ]
  },
  {
   "cell_type": "code",
   "execution_count": 315,
   "id": "5a881651",
   "metadata": {},
   "outputs": [],
   "source": [
    "# USING grid search to find best model\n",
    "# from sklearn.model_selection import GridSearchCV\n",
    "# param_grid = [\n",
    "#  {'n_estimators': [3, 10, 30], 'max_features': [2, 4, 6, 8]},\n",
    "#  {'bootstrap': [False], 'n_estimators': [3, 10], 'max_features': [2, 3, 4]},\n",
    "#  ]\n",
    "# forest_reg = RandomForestRegressor()\n",
    "# grid_search = GridSearchCV(forest_reg, param_grid, cv=5,\n",
    "#  scoring='neg_mean_squared_error',\n",
    "# return_train_score=True)\n",
    "# grid_search.fit(quant_var, quant_var)"
   ]
  },
  {
   "cell_type": "code",
   "execution_count": 316,
   "id": "3023d7b4",
   "metadata": {},
   "outputs": [
    {
     "name": "stdout",
     "output_type": "stream",
     "text": [
      "The Column Header : ['totalyearlycompensation', 'yearsofexperience', 'yearsatcompany', 'Age', 'Height', 'Zodiac', 'SAT', 'GPA']\n"
     ]
    },
    {
     "data": {
      "text/plain": [
       "[('totalyearlycompensation', 138557.21157590026),\n",
       " ('yearsofexperience', -4.501395915914933e-11),\n",
       " ('yearsatcompany', 3.835874977778506e-11),\n",
       " ('Age', -3.54914771887045e-11),\n",
       " ('Height', -2.8915444479955723e-12),\n",
       " ('Zodiac', -1.795572005915128e-11),\n",
       " ('SAT', 5.7628811508978064e-12),\n",
       " ('GPA', -7.464918580854543e-11)]"
      ]
     },
     "execution_count": 316,
     "metadata": {},
     "output_type": "execute_result"
    }
   ],
   "source": [
    "# Using ridge regression to find optimal lambda: a scikit-learn implementation\n",
    "# Load libraries:\n",
    "from sklearn.linear_model import Ridge\n",
    "from sklearn.model_selection import train_test_split\n",
    "from sklearn.metrics import mean_squared_error\n",
    "from sklearn.datasets import load_diabetes\n",
    "from sklearn.linear_model import RidgeCV\n",
    "\n",
    "new_data_  = quant_var.drop(columns=['Masters_Degree', 'Bachelors_Degree', 'Doctorate_Degree', 'Some_College', 'Race_Asian', 'Race_White', 'Race_Two_Or_More', 'Race_Hispanic', 'Race', 'Education', 'gender'], axis=1)\n",
    "\n",
    "column_headers = list(new_data_.columns.values)\n",
    "print(\"The Column Header :\", column_headers)\n",
    "\n",
    "X = new_data_\n",
    "y = quant_var['totalyearlycompensation']\n",
    "\n",
    "X_train, X_test, y_train, y_test = train_test_split(X, y,test_size=0.3, random_state=101) \n",
    "\n",
    "\n",
    "L_R = make_pipeline(StandardScaler(), LinearRegression())\n",
    "L_R.fit(X_train,y_train)\n",
    "\n",
    "mean_squared_error(y_test, L_R.predict(X_test))\n",
    "\n",
    "LR_coef = L_R[-1].coef_\n",
    "\n",
    "list(zip(column_headers, LR_coef))\n",
    "\n"
   ]
  },
  {
   "cell_type": "markdown",
   "id": "2a98f4ae",
   "metadata": {},
   "source": [
    "### Years of experience "
   ]
  },
  {
   "cell_type": "code",
   "execution_count": 317,
   "id": "bc3a426a",
   "metadata": {},
   "outputs": [
    {
     "name": "stderr",
     "output_type": "stream",
     "text": [
      "/var/folders/sw/5f53r1m13rq2jww8lqgbks700000gn/T/ipykernel_1134/561104383.py:3: FutureWarning: Dropping of nuisance columns in DataFrame reductions (with 'numeric_only=None') is deprecated; in a future version this will raise TypeError.  Select only valid columns before calling the reduction.\n",
      "  quant_var.skew()\n"
     ]
    },
    {
     "data": {
      "text/plain": [
       "'The r-squared score for your model was 0.18775146904808027 on 18793 values.'"
      ]
     },
     "execution_count": 317,
     "metadata": {},
     "output_type": "execute_result"
    }
   ],
   "source": [
    "# MULTIPLE REGRESSION \n",
    "# reference (code from LAB2)\n",
    "quant_var.skew()\n",
    "\n",
    "X = quant_var[['yearsofexperience']]\n",
    "y = quant_var['totalyearlycompensation']\n",
    "\n",
    "# X = X.iloc[:,:-1].values \n",
    "\n",
    "# Split into train and test\n",
    "X_train, X_test, y_train, y_test = train_test_split(X, y,test_size=0.3, random_state=101) \n",
    "\n",
    "LR=LinearRegression()\n",
    "LR.fit(X_train,y_train)# there is issue with the fitting \n",
    "\n",
    "# Predict and score the model\n",
    "y_pred=LR.predict(X_test)\n",
    "\"The r-squared score for your model was {} on {} values.\".format(r2_score(y_test, y_pred), len(y_test))\n",
    "\n"
   ]
  },
  {
   "cell_type": "code",
   "execution_count": 318,
   "id": "2db15e40",
   "metadata": {},
   "outputs": [],
   "source": [
    "# plot \n",
    "# sns.regplot(x = X,y = y)\n",
    "# plt.show()"
   ]
  },
  {
   "cell_type": "markdown",
   "id": "8f923e84",
   "metadata": {},
   "source": [
    "## Multiple full linear regression \n"
   ]
  },
  {
   "cell_type": "code",
   "execution_count": 319,
   "id": "6d38d0e3",
   "metadata": {},
   "outputs": [
    {
     "name": "stdout",
     "output_type": "stream",
     "text": [
      "119678.81217126836 128975.72520569556\n"
     ]
    },
    {
     "data": {
      "image/png": "[encoded data removed]",
      "text/plain": [
       "<Figure size 640x480 with 1 Axes>"
      ]
     },
     "metadata": {},
     "output_type": "display_data"
    }
   ],
   "source": [
    "    # code from lab2\n",
    "# Load data:\n",
    "    #  Do *not* include variables 5(basesalary), 6(stockgrantvalue) or 7(bonus)\n",
    "    # also drop education and race and gender (not numerical)\n",
    "    # also drop 11 - 20\n",
    "x_ = quant_var[['yearsatcompany', 'Age', 'Height', 'SAT','GPA','yearsofexperience']]\n",
    "y = quant_var['totalyearlycompensation']\n",
    "\n",
    "x = x_.iloc[:,:-1].values \n",
    "\n",
    "# 2. Doing the full model and calculating the yhats:\n",
    "model = LinearRegression().fit(x,y)\n",
    "b0, b1 = model.intercept_, model.coef_\n",
    "y_hat = np.dot(b1,x.transpose()) + b0\n",
    "\n",
    "# 3. Scatter plot between predicted and actual score of full model:\n",
    "r = np.corrcoef(y_hat,y)\n",
    "plt.plot(y_hat,y,'o',markersize=5)\n",
    "plt.xlabel('Predicted ')\n",
    "plt.ylabel('Actual ')\n",
    "plt.title('R: {:.3f}'.format(r[0,1])) \n",
    "\n",
    "# 4. Splitting the dataset for cross-validation:\n",
    "x1 = np.copy(x[0:100,:])\n",
    "y1 = np.copy(y[0:100])\n",
    "model = LinearRegression().fit(x1,y1)\n",
    "b0_1, b1_1 = model.intercept_, model.coef_\n",
    "\n",
    "x2 = np.copy(x[100:,:])\n",
    "y2 = np.copy(y[100:])\n",
    "model = LinearRegression().fit(x2,y2)\n",
    "b0_2, b1_2 = model.intercept_, model.coef_\n",
    "\n",
    "# 5. Cross-validation. Using the betas from one dataset, but\n",
    "# measuring the error with the other dataset\n",
    "y_hat1 = np.dot(b1_2,x1.transpose()) + b0_2\n",
    "y_hat2 = np.dot(b1_1,x2.transpose()) + b0_1\n",
    "rmse1 = np.sqrt(np.mean((y_hat1 - y1)**2))\n",
    "rmse2 = np.sqrt(np.mean((y_hat2 - y2)**2))\n",
    "print(rmse1, rmse2)\n",
    "\n",
    "\n",
    "# OR TRY \n",
    "\n",
    "# # # # Doing the full model and calculating the yhats:\n",
    "# model = LinearRegression().fit(x,y)\n",
    "# b0, b1 = model.intercept_, model.coef_\n",
    "# y_hat = np.dot(b1,x.transpose()) + b0\n",
    "\n",
    "# # Scatter plot between predicted and actual score of full model:\n",
    "# r = np.corrcoef(y_hat,y)\n",
    "# plt.plot(y_hat,y,'o',markersize=5)\n",
    "# plt.xlabel('Predicted')\n",
    "# plt.ylabel('Actual')\n",
    "# plt.title('R: {:.3f}'.format(r[0,1])) \n",
    "\n",
    "# r = 1 (using same data to test and predict )\n"
   ]
  },
  {
   "cell_type": "code",
   "execution_count": 320,
   "id": "5da2f38a",
   "metadata": {},
   "outputs": [],
   "source": [
    "column_to_plot=quant_var['totalyearlycompensation']"
   ]
  },
  {
   "cell_type": "code",
   "execution_count": 321,
   "id": "6064c822",
   "metadata": {},
   "outputs": [
    {
     "data": {
      "image/png": "[encoded data removed]",
      "text/plain": [
       "<Figure size 640x480 with 1 Axes>"
      ]
     },
     "metadata": {},
     "output_type": "display_data"
    }
   ],
   "source": [
    "fig, ax = plt.subplots()\n",
    "ax.boxplot(column_to_plot)\n",
    "ax.set_title('Box Plot of Column')\n",
    "ax.set_xlabel('Column Name')\n",
    "ax.set_ylabel('Values')\n",
    "plt.show()"
   ]
  },
  {
   "cell_type": "markdown",
   "id": "8b93cad6",
   "metadata": {},
   "source": [
    "## Question 2\n",
    "Using ridge regression to do the same as in 1): How does the model change or improve compared to OLS? What is the optimal lambda? "
   ]
  },
  {
   "cell_type": "code",
   "execution_count": 322,
   "id": "7a6a461c",
   "metadata": {},
   "outputs": [
    {
     "name": "stdout",
     "output_type": "stream",
     "text": [
      "The Column Header : ['totalyearlycompensation', 'yearsofexperience', 'yearsatcompany', 'Age', 'Height', 'Zodiac', 'SAT', 'GPA']\n",
      "0.12864277912423522\n",
      "0.1\n"
     ]
    },
    {
     "name": "stderr",
     "output_type": "stream",
     "text": [
      "/opt/anaconda3/lib/python3.9/site-packages/sklearn/linear_model/_ridge.py:1791: RuntimeWarning: invalid value encountered in reciprocal\n",
      "  w = ((singvals_sq + alpha) ** -1) - (alpha ** -1)\n"
     ]
    },
    {
     "data": {
      "text/plain": [
       "[('totalyearlycompensation', 138556.78421320952),\n",
       " ('yearsofexperience', 0.17496132898196493),\n",
       " ('yearsatcompany', -0.02778692299125396),\n",
       " ('Age', 0.0005200418591471134),\n",
       " ('Height', 0.00010229422093743779),\n",
       " ('Zodiac', 0.004061539434189854),\n",
       " ('SAT', 0.11992493229672618),\n",
       " ('GPA', 0.003685701211452397)]"
      ]
     },
     "execution_count": 322,
     "metadata": {},
     "output_type": "execute_result"
    }
   ],
   "source": [
    "# Using ridge regression to find optimal lambda: a scikit-learn implementation\n",
    "# Load libraries:\n",
    "from sklearn.linear_model import Ridge\n",
    "from sklearn.model_selection import train_test_split\n",
    "from sklearn.metrics import mean_squared_error\n",
    "from sklearn.datasets import load_diabetes\n",
    "from sklearn.linear_model import RidgeCV\n",
    "\n",
    "# quant_var = techSalaries.drop(columns=['company', 'title', 'location','Race_Black','Highschool','basesalary','stockgrantvalue','bonus','gender'], axis=1)\n",
    "new_data  = quant_var.drop(columns=['Masters_Degree', 'Bachelors_Degree', 'Doctorate_Degree', 'Some_College', 'Race_Asian', 'Race_White', 'Race_Two_Or_More', 'Race_Hispanic', 'Race', 'Education','gender'], axis=1)\n",
    "\n",
    "column_headers = list(new_data.columns.values)\n",
    "print(\"The Column Header :\", column_headers)\n",
    "\n",
    "X = new_data \n",
    "y = quant_var['totalyearlycompensation']\n",
    "\n",
    "\n",
    "X_train, X_test, y_train, y_test = train_test_split(X, y,test_size=0.3, random_state=101) \n",
    "\n",
    "\n",
    "ridge_cv = make_pipeline(StandardScaler(), RidgeCV())\n",
    "ridge_cv.fit(X_train,y_train)\n",
    "\n",
    "print(mean_squared_error(y_test, ridge_cv.predict(X_test)))\n",
    "\n",
    "\n",
    "ridge_cv_coef = ridge_cv[-1].coef_\n",
    "print(ridge_cv[-1].alpha_)\n",
    "\n",
    "\n",
    "list(zip(column_headers, ridge_cv_coef))\n",
    "\n"
   ]
  },
  {
   "cell_type": "code",
   "execution_count": 323,
   "id": "17ac9486",
   "metadata": {},
   "outputs": [],
   "source": [
    "# Using ridge regression to find optimal lambda: a scikit-learn implementation\n",
    "# Load libraries:\n",
    "from sklearn.linear_model import Ridge\n",
    "from sklearn.model_selection import train_test_split\n",
    "from sklearn.metrics import mean_squared_error\n",
    "from sklearn.datasets import load_diabetes\n",
    "from sklearn.linear_model import RidgeCV\n",
    "\n",
    "X = quant_var[['yearsatcompany', 'Age', 'Height', 'SAT','GPA','yearsofexperience']]\n",
    "y = quant_var['totalyearlycompensation']\n",
    "\n"
   ]
  },
  {
   "cell_type": "code",
   "execution_count": 324,
   "id": "20b0e296",
   "metadata": {},
   "outputs": [
    {
     "data": {
      "image/png": "[encoded data removed]",
      "text/plain": [
       "<Figure size 640x480 with 1 Axes>"
      ]
     },
     "metadata": {},
     "output_type": "display_data"
    },
    {
     "name": "stdout",
     "output_type": "stream",
     "text": [
      "Optimal lambda: 20.0\n"
     ]
    }
   ],
   "source": [
    "# X = X.iloc[:,:-1].values \n",
    "\n",
    "#Split into train and test\n",
    "X_train, X_test, y_train, y_test = train_test_split(X, y,test_size=0.3, random_state=101) \n",
    "\n",
    "\n",
    "lambdas = np.linspace(-20,20,201)\n",
    "cont = np.empty([len(lambdas),2])*np.NaN # [lambda error]\n",
    "for ii in range(len(lambdas)):\n",
    "    ridgeModel = Ridge(alpha=lambdas[ii]).fit(X_train, y_train)\n",
    "    cont[ii,0] = lambdas[ii]\n",
    "    error = mean_squared_error(y_test,ridgeModel.predict(X_test),squared=False)\n",
    "    cont[ii,1] = error\n",
    "    \n",
    "plt.plot(cont[:,0],cont[:,1])\n",
    "plt.xlabel('Lambda')\n",
    "plt.ylabel('RMSE')\n",
    "plt.title('Ridge regression')\n",
    "plt.show()\n",
    "print('Optimal lambda:',lambdas[np.argmax(cont[:,1]==np.min(cont[:,1]))])\n"
   ]
  },
  {
   "cell_type": "markdown",
   "id": "0baaa326",
   "metadata": {},
   "source": [
    "## Question 3 \n",
    "Using Lasso regression to do the same as in 1): How does the model change now? How many of the predictor betas are shrunk to exactly 0? What is the optimal lambda now? "
   ]
  },
  {
   "cell_type": "code",
   "execution_count": 325,
   "id": "7b71ea90",
   "metadata": {},
   "outputs": [
    {
     "name": "stdout",
     "output_type": "stream",
     "text": [
      "The Column Header : ['totalyearlycompensation', 'yearsofexperience', 'yearsatcompany', 'Age', 'Height', 'Zodiac', 'SAT', 'GPA']\n",
      "0.1\n"
     ]
    },
    {
     "name": "stderr",
     "output_type": "stream",
     "text": [
      "/opt/anaconda3/lib/python3.9/site-packages/sklearn/linear_model/_ridge.py:1791: RuntimeWarning: invalid value encountered in reciprocal\n",
      "  w = ((singvals_sq + alpha) ** -1) - (alpha ** -1)\n"
     ]
    },
    {
     "data": {
      "text/plain": [
       "[('totalyearlycompensation', 138556.78421320952),\n",
       " ('yearsofexperience', 0.17496132898196493),\n",
       " ('yearsatcompany', -0.02778692299125396),\n",
       " ('Age', 0.0005200418591471134),\n",
       " ('Height', 0.00010229422093743779),\n",
       " ('Zodiac', 0.004061539434189854),\n",
       " ('SAT', 0.11992493229672618),\n",
       " ('GPA', 0.003685701211452397)]"
      ]
     },
     "execution_count": 325,
     "metadata": {},
     "output_type": "execute_result"
    }
   ],
   "source": [
    "\n",
    "# quant_var = techSalaries.drop(columns=['company', 'title', 'location','Race_Black','Highschool','basesalary','stockgrantvalue','bonus','gender'], axis=1)\n",
    "new_data  = quant_var.drop(columns=['Masters_Degree', 'Bachelors_Degree', 'Doctorate_Degree', 'Some_College', 'Race_Asian', 'Race_White', 'Race_Two_Or_More', 'Race_Hispanic', 'Race', 'Education','gender'], axis=1)\n",
    "\n",
    "column_headers = list(new_data.columns.values)\n",
    "print(\"The Column Header :\", column_headers)\n",
    "\n",
    "X = new_data \n",
    "y = quant_var['totalyearlycompensation']\n",
    "\n",
    "\n",
    "X_train, X_test, y_train, y_test = train_test_split(X, y,test_size=0.3, random_state=101) \n",
    "\n",
    "\n",
    "lasso_cv = make_pipeline(StandardScaler(), RidgeCV())\n",
    "lasso_cv.fit(X_train,y_train)\n",
    "\n",
    "mean_squared_error(y_test, lasso_cv.predict(X_test))\n",
    "\n",
    "lasso_cv_coef = lasso_cv[-1].coef_\n",
    "print(lasso_cv[-1].alpha_)\n",
    "\n",
    "\n",
    "list(zip(column_headers, lasso_cv_coef))\n"
   ]
  },
  {
   "cell_type": "code",
   "execution_count": 326,
   "id": "5a8f846c",
   "metadata": {},
   "outputs": [
    {
     "ename": "SyntaxError",
     "evalue": "invalid syntax (1944579694.py, line 7)",
     "output_type": "error",
     "traceback": [
      "\u001b[0;36m  File \u001b[0;32m\"/var/folders/sw/5f53r1m13rq2jww8lqgbks700000gn/T/ipykernel_1134/1944579694.py\"\u001b[0;36m, line \u001b[0;32m7\u001b[0m\n\u001b[0;31m    x_ = quant_var[['yearsatcompany', 'Age', 'Height', 'SAT','GPA']]quant_var[['yearsatcompany', 'Age', 'Height', 'SAT','GPA']]\u001b[0m\n\u001b[0m                                                                    ^\u001b[0m\n\u001b[0;31mSyntaxError\u001b[0m\u001b[0;31m:\u001b[0m invalid syntax\n"
     ]
    }
   ],
   "source": [
    "#%% 5. Now do the same thing--but with lasso regression\n",
    "import warnings\n",
    "warnings.filterwarnings('ignore') # Just to ignore warnings that might be thrown due to artifically formed data.\n",
    "# Load libraries:\n",
    "from sklearn.linear_model import Lasso\n",
    "\n",
    "x_ = quant_var[['yearsatcompany', 'Age', 'Height', 'SAT','GPA']]quant_var[['yearsatcompany', 'Age', 'Height', 'SAT','GPA']]\n",
    "y = quant_var['totalyearlycompensation']\n",
    "\n",
    "\n",
    "#Split into train and test\n",
    "X_train, X_test, y_train, y_test = train_test_split(X, y,test_size=0.2, random_state=0) \n",
    "\n",
    "\n",
    "# Init parameters:\n",
    "# xTrain, xTest, yTrain, yTest = train_test_split(x.iloc[:,:-1], y.reshape(-1,1), test_size=0.2, random_state=0)\n",
    "lambdas = np.linspace(-20,20,201)\n",
    "cont = np.empty([len(lambdas),2])*np.NaN # [lambda error]\n",
    "\n",
    "for ii in range(len(lambdas)):\n",
    "    ridgeModel = Lasso(alpha=lambdas[ii]).fit(X_train, y_train)\n",
    "    cont[ii,0] = lambdas[ii]\n",
    "    error = mean_squared_error(y_test,ridgeModel.predict(X_test),squared=False)\n",
    "    cont[ii,1] = error\n",
    "\n",
    "plt.plot(cont[:,0],cont[:,1])\n",
    "plt.xlabel('Lambda')\n",
    "plt.ylabel('RMSE')\n",
    "plt.title('Lasso regression')\n",
    "plt.show()\n",
    "print('Optimal lambda:',lambdas[np.argmax(cont[:,1]==np.min(cont[:,1]))])\n"
   ]
  },
  {
   "cell_type": "markdown",
   "id": "bfdc3428",
   "metadata": {},
   "source": [
    "## Question4"
   ]
  },
  {
   "cell_type": "code",
   "execution_count": null,
   "id": "31ea4958",
   "metadata": {},
   "outputs": [],
   "source": [
    "# get dummy variables \n",
    "# dummies = pd.get_dummies(quant_var['gender']).rename(columns=lambda x: 'Male_' + str(x))\n",
    "# df = pd.concat([quant_var, dummies], axis=1)\n",
    "# df = quant_var.drop(['gender'], inplace=True, axis=1)\n",
    "from sklearn.linear_model  import Ridge,Lasso,RidgeCV, LassoCV, ElasticNet, ElasticNetCV, LogisticRegression\n",
    "from sklearn.metrics import accuracy_score, confusion_matrix, roc_curve, roc_auc_score\n",
    "\n",
    "gender_data = gender_data.dropna(axis=0)\n",
    "\n",
    "gender_data['Male'] = np.where(gender_data=='Male', 1, 0)\n",
    "gender_data['Female'] = np.where(gender_data=='Male', 0, 1)\n",
    "\n",
    "print(gender_data)\n",
    "\n",
    "X = quant_var['totalyearlycompensation']\n",
    "y = gender_data[:43104]\n",
    "X = X[:43104]"
   ]
  },
  {
   "cell_type": "code",
   "execution_count": null,
   "id": "d9e30cd0",
   "metadata": {},
   "outputs": [],
   "source": [
    "x_train, x_test, y_train, y_test = train_test_split(X , y , test_size = .20 , random_state = 144)"
   ]
  },
  {
   "cell_type": "code",
   "execution_count": null,
   "id": "64d680f4",
   "metadata": {},
   "outputs": [],
   "source": [
    "\n",
    "logr = LogisticRegression()\n",
    "logr.fit(x_train.values.reshape(-1,1),y_train)\n"
   ]
  },
  {
   "cell_type": "code",
   "execution_count": 327,
   "id": "fd1b542a",
   "metadata": {},
   "outputs": [],
   "source": [
    "def model_eval(y_true,y_pred):\n",
    "    tn, fp, fn, tp = confusion_matrix(y_test,y_pred).ravel()\n",
    "    accuracy=(tp+tn)/(tp+tn+fp+fn)\n",
    "    precision=tp/(tp+fp)\n",
    "    recall=tp/(tp+fn)\n",
    "    specificity=tn/(fp+tn)\n",
    "    F1_Score = 2*(recall * precision) / (recall + precision)\n",
    "    result={\"Accuracy\":accuracy,\"Precision\":precision,\"Recall\":recall,'Specficity':specificity,'F1':F1_Score}\n",
    "    return result"
   ]
  },
  {
   "cell_type": "code",
   "execution_count": null,
   "id": "abf6fe28",
   "metadata": {},
   "outputs": [],
   "source": [
    "logr_liblinear\n",
    "logr\n",
    "y_pred_liblinear = logr_liblinear.predict(x_test)\n",
    "y_pred_liblinear\n",
    "y_pred_default = logr.predict(x_test)\n",
    "y_pred_default\n",
    "confusion_matrix(y_test,y_pred_liblinear)\n",
    "confusion_matrix(y_test,y_pred_default)\n",
    "model_eval(y_test,y_pred_liblinear)\n",
    "model_eval(y_test,y_pred_default)\n",
    "auc = roc_auc_score(y_test,y_pred_liblinear)\n",
    "roc_auc_score(y_test,y_pred_default)\n",
    "fpr, tpr, thresholds  = roc_curve(y_test,y_pred_liblinear)\n",
    "plt.plot(fpr, tpr, color='orange', label='ROC')\n",
    "plt.plot([0, 1], [0, 1], color='darkblue', linestyle='--',label='ROC curve (area = %0.2f)' % auc)\n",
    "plt.xlabel('False Positive Rate')\n",
    "plt.ylabel('True Positive Rate')\n",
    "plt.title('Receiver Operating Characteristic (ROC) Curve')\n",
    "plt.legend()\n",
    "plt.show()"
   ]
  },
  {
   "cell_type": "markdown",
   "id": "bbb5d750",
   "metadata": {},
   "source": [
    "## Question5"
   ]
  },
  {
   "cell_type": "code",
   "execution_count": 336,
   "id": "22941073",
   "metadata": {},
   "outputs": [
    {
     "ename": "ValueError",
     "evalue": "Found input variables with inconsistent numbers of samples: [250565, 50113]",
     "output_type": "error",
     "traceback": [
      "\u001b[0;31m---------------------------------------------------------------------------\u001b[0m",
      "\u001b[0;31mValueError\u001b[0m                                Traceback (most recent call last)",
      "\u001b[0;32m/var/folders/sw/5f53r1m13rq2jww8lqgbks700000gn/T/ipykernel_1134/1361752205.py\u001b[0m in \u001b[0;36m<module>\u001b[0;34m\u001b[0m\n\u001b[1;32m      4\u001b[0m \u001b[0mx_train\u001b[0m\u001b[0;34m,\u001b[0m \u001b[0mx_test\u001b[0m\u001b[0;34m,\u001b[0m \u001b[0my_train\u001b[0m\u001b[0;34m,\u001b[0m \u001b[0my_test\u001b[0m \u001b[0;34m=\u001b[0m \u001b[0mtrain_test_split\u001b[0m\u001b[0;34m(\u001b[0m\u001b[0mX\u001b[0m \u001b[0;34m,\u001b[0m \u001b[0my\u001b[0m \u001b[0;34m,\u001b[0m \u001b[0mtest_size\u001b[0m \u001b[0;34m=\u001b[0m \u001b[0;36m.20\u001b[0m \u001b[0;34m,\u001b[0m \u001b[0mrandom_state\u001b[0m \u001b[0;34m=\u001b[0m \u001b[0;36m144\u001b[0m\u001b[0;34m)\u001b[0m\u001b[0;34m\u001b[0m\u001b[0;34m\u001b[0m\u001b[0m\n\u001b[1;32m      5\u001b[0m \u001b[0mlogr\u001b[0m \u001b[0;34m=\u001b[0m \u001b[0mLogisticRegression\u001b[0m\u001b[0;34m(\u001b[0m\u001b[0;34m)\u001b[0m\u001b[0;34m\u001b[0m\u001b[0;34m\u001b[0m\u001b[0m\n\u001b[0;32m----> 6\u001b[0;31m \u001b[0mlogr\u001b[0m\u001b[0;34m.\u001b[0m\u001b[0mfit\u001b[0m\u001b[0;34m(\u001b[0m\u001b[0mx_train\u001b[0m\u001b[0;34m.\u001b[0m\u001b[0mvalues\u001b[0m\u001b[0;34m.\u001b[0m\u001b[0mreshape\u001b[0m\u001b[0;34m(\u001b[0m\u001b[0;34m-\u001b[0m\u001b[0;36m1\u001b[0m\u001b[0;34m,\u001b[0m\u001b[0;36m1\u001b[0m\u001b[0;34m)\u001b[0m\u001b[0;34m,\u001b[0m\u001b[0my_train\u001b[0m\u001b[0;34m)\u001b[0m\u001b[0;34m\u001b[0m\u001b[0;34m\u001b[0m\u001b[0m\n\u001b[0m\u001b[1;32m      7\u001b[0m \u001b[0;34m\u001b[0m\u001b[0m\n\u001b[1;32m      8\u001b[0m \u001b[0;34m\u001b[0m\u001b[0m\n",
      "\u001b[0;32m/opt/anaconda3/lib/python3.9/site-packages/sklearn/linear_model/_logistic.py\u001b[0m in \u001b[0;36mfit\u001b[0;34m(self, X, y, sample_weight)\u001b[0m\n\u001b[1;32m   1506\u001b[0m             \u001b[0m_dtype\u001b[0m \u001b[0;34m=\u001b[0m \u001b[0;34m[\u001b[0m\u001b[0mnp\u001b[0m\u001b[0;34m.\u001b[0m\u001b[0mfloat64\u001b[0m\u001b[0;34m,\u001b[0m \u001b[0mnp\u001b[0m\u001b[0;34m.\u001b[0m\u001b[0mfloat32\u001b[0m\u001b[0;34m]\u001b[0m\u001b[0;34m\u001b[0m\u001b[0;34m\u001b[0m\u001b[0m\n\u001b[1;32m   1507\u001b[0m \u001b[0;34m\u001b[0m\u001b[0m\n\u001b[0;32m-> 1508\u001b[0;31m         X, y = self._validate_data(\n\u001b[0m\u001b[1;32m   1509\u001b[0m             \u001b[0mX\u001b[0m\u001b[0;34m,\u001b[0m\u001b[0;34m\u001b[0m\u001b[0;34m\u001b[0m\u001b[0m\n\u001b[1;32m   1510\u001b[0m             \u001b[0my\u001b[0m\u001b[0;34m,\u001b[0m\u001b[0;34m\u001b[0m\u001b[0;34m\u001b[0m\u001b[0m\n",
      "\u001b[0;32m/opt/anaconda3/lib/python3.9/site-packages/sklearn/base.py\u001b[0m in \u001b[0;36m_validate_data\u001b[0;34m(self, X, y, reset, validate_separately, **check_params)\u001b[0m\n\u001b[1;32m    579\u001b[0m                 \u001b[0my\u001b[0m \u001b[0;34m=\u001b[0m \u001b[0mcheck_array\u001b[0m\u001b[0;34m(\u001b[0m\u001b[0my\u001b[0m\u001b[0;34m,\u001b[0m \u001b[0;34m**\u001b[0m\u001b[0mcheck_y_params\u001b[0m\u001b[0;34m)\u001b[0m\u001b[0;34m\u001b[0m\u001b[0;34m\u001b[0m\u001b[0m\n\u001b[1;32m    580\u001b[0m             \u001b[0;32melse\u001b[0m\u001b[0;34m:\u001b[0m\u001b[0;34m\u001b[0m\u001b[0;34m\u001b[0m\u001b[0m\n\u001b[0;32m--> 581\u001b[0;31m                 \u001b[0mX\u001b[0m\u001b[0;34m,\u001b[0m \u001b[0my\u001b[0m \u001b[0;34m=\u001b[0m \u001b[0mcheck_X_y\u001b[0m\u001b[0;34m(\u001b[0m\u001b[0mX\u001b[0m\u001b[0;34m,\u001b[0m \u001b[0my\u001b[0m\u001b[0;34m,\u001b[0m \u001b[0;34m**\u001b[0m\u001b[0mcheck_params\u001b[0m\u001b[0;34m)\u001b[0m\u001b[0;34m\u001b[0m\u001b[0;34m\u001b[0m\u001b[0m\n\u001b[0m\u001b[1;32m    582\u001b[0m             \u001b[0mout\u001b[0m \u001b[0;34m=\u001b[0m \u001b[0mX\u001b[0m\u001b[0;34m,\u001b[0m \u001b[0my\u001b[0m\u001b[0;34m\u001b[0m\u001b[0;34m\u001b[0m\u001b[0m\n\u001b[1;32m    583\u001b[0m \u001b[0;34m\u001b[0m\u001b[0m\n",
      "\u001b[0;32m/opt/anaconda3/lib/python3.9/site-packages/sklearn/utils/validation.py\u001b[0m in \u001b[0;36mcheck_X_y\u001b[0;34m(X, y, accept_sparse, accept_large_sparse, dtype, order, copy, force_all_finite, ensure_2d, allow_nd, multi_output, ensure_min_samples, ensure_min_features, y_numeric, estimator)\u001b[0m\n\u001b[1;32m    979\u001b[0m     \u001b[0my\u001b[0m \u001b[0;34m=\u001b[0m \u001b[0m_check_y\u001b[0m\u001b[0;34m(\u001b[0m\u001b[0my\u001b[0m\u001b[0;34m,\u001b[0m \u001b[0mmulti_output\u001b[0m\u001b[0;34m=\u001b[0m\u001b[0mmulti_output\u001b[0m\u001b[0;34m,\u001b[0m \u001b[0my_numeric\u001b[0m\u001b[0;34m=\u001b[0m\u001b[0my_numeric\u001b[0m\u001b[0;34m)\u001b[0m\u001b[0;34m\u001b[0m\u001b[0;34m\u001b[0m\u001b[0m\n\u001b[1;32m    980\u001b[0m \u001b[0;34m\u001b[0m\u001b[0m\n\u001b[0;32m--> 981\u001b[0;31m     \u001b[0mcheck_consistent_length\u001b[0m\u001b[0;34m(\u001b[0m\u001b[0mX\u001b[0m\u001b[0;34m,\u001b[0m \u001b[0my\u001b[0m\u001b[0;34m)\u001b[0m\u001b[0;34m\u001b[0m\u001b[0;34m\u001b[0m\u001b[0m\n\u001b[0m\u001b[1;32m    982\u001b[0m \u001b[0;34m\u001b[0m\u001b[0m\n\u001b[1;32m    983\u001b[0m     \u001b[0;32mreturn\u001b[0m \u001b[0mX\u001b[0m\u001b[0;34m,\u001b[0m \u001b[0my\u001b[0m\u001b[0;34m\u001b[0m\u001b[0;34m\u001b[0m\u001b[0m\n",
      "\u001b[0;32m/opt/anaconda3/lib/python3.9/site-packages/sklearn/utils/validation.py\u001b[0m in \u001b[0;36mcheck_consistent_length\u001b[0;34m(*arrays)\u001b[0m\n\u001b[1;32m    330\u001b[0m     \u001b[0muniques\u001b[0m \u001b[0;34m=\u001b[0m \u001b[0mnp\u001b[0m\u001b[0;34m.\u001b[0m\u001b[0munique\u001b[0m\u001b[0;34m(\u001b[0m\u001b[0mlengths\u001b[0m\u001b[0;34m)\u001b[0m\u001b[0;34m\u001b[0m\u001b[0;34m\u001b[0m\u001b[0m\n\u001b[1;32m    331\u001b[0m     \u001b[0;32mif\u001b[0m \u001b[0mlen\u001b[0m\u001b[0;34m(\u001b[0m\u001b[0muniques\u001b[0m\u001b[0;34m)\u001b[0m \u001b[0;34m>\u001b[0m \u001b[0;36m1\u001b[0m\u001b[0;34m:\u001b[0m\u001b[0;34m\u001b[0m\u001b[0;34m\u001b[0m\u001b[0m\n\u001b[0;32m--> 332\u001b[0;31m         raise ValueError(\n\u001b[0m\u001b[1;32m    333\u001b[0m             \u001b[0;34m\"Found input variables with inconsistent numbers of samples: %r\"\u001b[0m\u001b[0;34m\u001b[0m\u001b[0;34m\u001b[0m\u001b[0m\n\u001b[1;32m    334\u001b[0m             \u001b[0;34m%\u001b[0m \u001b[0;34m[\u001b[0m\u001b[0mint\u001b[0m\u001b[0;34m(\u001b[0m\u001b[0ml\u001b[0m\u001b[0;34m)\u001b[0m \u001b[0;32mfor\u001b[0m \u001b[0ml\u001b[0m \u001b[0;32min\u001b[0m \u001b[0mlengths\u001b[0m\u001b[0;34m]\u001b[0m\u001b[0;34m\u001b[0m\u001b[0;34m\u001b[0m\u001b[0m\n",
      "\u001b[0;31mValueError\u001b[0m: Found input variables with inconsistent numbers of samples: [250565, 50113]"
     ]
    }
   ],
   "source": [
    "X = quant_var[['yearsatcompany', 'Age', 'Height', 'SAT','GPA']]\n",
    "y = basesalary\n",
    "\n",
    "x_train, x_test, y_train, y_test = train_test_split(X , y , test_size = .20 , random_state = 144)\n",
    "logr = LogisticRegression()\n",
    "logr.fit(x_train.values.reshape(-1,1),y_train)\n"
   ]
  },
  {
   "cell_type": "code",
   "execution_count": null,
   "id": "260a26c5",
   "metadata": {},
   "outputs": [],
   "source": [
    "def model_eval(y_true,y_pred):\n",
    "    tn, fp, fn, tp = confusion_matrix(y_test,y_pred).ravel()\n",
    "    accuracy=(tp+tn)/(tp+tn+fp+fn)\n",
    "    precision=tp/(tp+fp)\n",
    "    recall=tp/(tp+fn)\n",
    "    specificity=tn/(fp+tn)\n",
    "    F1_Score = 2*(recall * precision) / (recall + precision)\n",
    "    result={\"Accuracy\":accuracy,\"Precision\":precision,\"Recall\":recall,'Specficity':specificity,'F1':F1_Score}\n",
    "    return result"
   ]
  },
  {
   "cell_type": "code",
   "execution_count": null,
   "id": "bc3a60fd",
   "metadata": {},
   "outputs": [],
   "source": [
    "logr_liblinear\n",
    "logr\n",
    "y_pred_liblinear = logr_liblinear.predict(x_test)\n",
    "y_pred_liblinear\n",
    "y_pred_default = logr.predict(x_test)\n",
    "y_pred_default\n",
    "confusion_matrix(y_test,y_pred_liblinear)\n",
    "confusion_matrix(y_test,y_pred_default)\n",
    "model_eval(y_test,y_pred_liblinear)\n",
    "model_eval(y_test,y_pred_default)\n",
    "auc = roc_auc_score(y_test,y_pred_liblinear)\n",
    "roc_auc_score(y_test,y_pred_default)\n",
    "fpr, tpr, thresholds  = roc_curve(y_test,y_pred_liblinear)\n",
    "plt.plot(fpr, tpr, color='orange', label='ROC')\n",
    "plt.plot([0, 1], [0, 1], color='darkblue', linestyle='--',label='ROC curve (area = %0.2f)' % auc)\n",
    "plt.xlabel('False Positive Rate')\n",
    "plt.ylabel('True Positive Rate')\n",
    "plt.title('Receiver Operating Characteristic (ROC) Curve')\n",
    "plt.legend()\n",
    "plt.show()"
   ]
  }
 ],
 "metadata": {
  "kernelspec": {
   "display_name": "Python 3 (ipykernel)",
   "language": "python",
   "name": "python3"
  },
  "language_info": {
   "codemirror_mode": {
    "name": "ipython",
    "version": 3
   },
   "file_extension": ".py",
   "mimetype": "text/x-python",
   "name": "python",
   "nbconvert_exporter": "python",
   "pygments_lexer": "ipython3",
   "version": "3.9.13"
  }
 },
 "nbformat": 4,
 "nbformat_minor": 5
}
