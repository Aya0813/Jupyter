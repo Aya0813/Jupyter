{
 "cells": [
  {
   "cell_type": "markdown",
   "id": "b83ef47e",
   "metadata": {},
   "source": [
    "# Imports and Dependencies\n",
    "Start your notebook by importing any necessary libraries and dependencies that you'll need throughout your code. This could include things like NumPy, Pandas, scikit-learn, or TensorFlow."
   ]
  },
  {
   "cell_type": "code",
   "execution_count": 46,
   "id": "28f6331f",
   "metadata": {},
   "outputs": [],
   "source": [
    "#conda install scikit-learn"
   ]
  },
  {
   "cell_type": "code",
   "execution_count": 26,
   "id": "b5397e0e",
   "metadata": {},
   "outputs": [],
   "source": [
    "import numpy as np\n",
    "import pandas as pd\n",
    "from sklearn import datasets\n",
    "import matplotlib.pyplot as plt\n",
    "from tqdm import tqdm\n",
    "from sklearn.linear_model import LogisticRegression \n",
    "from sklearn.svm import LinearSVC\n",
    "from sklearn import metrics, model_selection, tree\n",
    "from sklearn.model_selection import train_test_split\n",
    "import matplotlib.pyplot as plt\n",
    "\n",
    "# from pandas_profiling import ProfileReport\n",
    "# test \n",
    "\n",
    "import random\n",
    "import torch\n",
    "from torch import nn, optim\n",
    "import math\n",
    "from IPython import display\n",
    "from sklearn.metrics import accuracy_score, roc_auc_score\n",
    "from sklearn.model_selection import StratifiedShuffleSplit"
   ]
  },
  {
   "cell_type": "code",
   "execution_count": 27,
   "id": "97d2141e",
   "metadata": {},
   "outputs": [],
   "source": [
    "import random\n",
    "random.seed(12289065)"
   ]
  },
  {
   "cell_type": "markdown",
   "id": "103b128c",
   "metadata": {},
   "source": [
    "# Data Preparation\n",
    "Load your dataset into memory, and perform any necessary preprocessing steps. This might include tasks like cleaning the data, handling missing values, feature scaling, encoding categorical variables, and so on."
   ]
  },
  {
   "cell_type": "code",
   "execution_count": 28,
   "id": "cbb03e08",
   "metadata": {},
   "outputs": [],
   "source": [
    "# Loading the dataset into a Pandas Dataframe \n",
    "df = pd.read_csv(\"musicData.csv\") \n",
    "df = df.drop(columns=['artist_name','track_name'])"
   ]
  },
  {
   "cell_type": "code",
   "execution_count": 29,
   "id": "20bde90e",
   "metadata": {},
   "outputs": [],
   "source": [
    "# Identify target variable column and separate it from features\n",
    "target_col = 'music_genre'\n",
    "y = df[target_col]\n",
    "X = df.drop(columns=[target_col])"
   ]
  },
  {
   "cell_type": "code",
   "execution_count": 30,
   "id": "7f9206b7",
   "metadata": {},
   "outputs": [],
   "source": [
    "# Overview of the data \n",
    "# ProfileReport(df)"
   ]
  },
  {
   "cell_type": "code",
   "execution_count": 31,
   "id": "9680c993",
   "metadata": {},
   "outputs": [
    {
     "data": {
      "text/html": [
       "<div>\n",
       "<style scoped>\n",
       "    .dataframe tbody tr th:only-of-type {\n",
       "        vertical-align: middle;\n",
       "    }\n",
       "\n",
       "    .dataframe tbody tr th {\n",
       "        vertical-align: top;\n",
       "    }\n",
       "\n",
       "    .dataframe thead th {\n",
       "        text-align: right;\n",
       "    }\n",
       "</style>\n",
       "<table border=\"1\" class=\"dataframe\">\n",
       "  <thead>\n",
       "    <tr style=\"text-align: right;\">\n",
       "      <th></th>\n",
       "      <th>instance_id</th>\n",
       "      <th>popularity</th>\n",
       "      <th>acousticness</th>\n",
       "      <th>danceability</th>\n",
       "      <th>duration_ms</th>\n",
       "      <th>energy</th>\n",
       "      <th>instrumentalness</th>\n",
       "      <th>key</th>\n",
       "      <th>liveness</th>\n",
       "      <th>loudness</th>\n",
       "      <th>mode</th>\n",
       "      <th>speechiness</th>\n",
       "      <th>tempo</th>\n",
       "      <th>obtained_date</th>\n",
       "      <th>valence</th>\n",
       "      <th>music_genre</th>\n",
       "    </tr>\n",
       "  </thead>\n",
       "  <tbody>\n",
       "    <tr>\n",
       "      <th>0</th>\n",
       "      <td>32894.0</td>\n",
       "      <td>27.0</td>\n",
       "      <td>0.00468</td>\n",
       "      <td>0.652</td>\n",
       "      <td>-1.0</td>\n",
       "      <td>0.941</td>\n",
       "      <td>0.79200</td>\n",
       "      <td>A#</td>\n",
       "      <td>0.115</td>\n",
       "      <td>-5.201</td>\n",
       "      <td>Minor</td>\n",
       "      <td>0.0748</td>\n",
       "      <td>100.889</td>\n",
       "      <td>4-Apr</td>\n",
       "      <td>0.759</td>\n",
       "      <td>Electronic</td>\n",
       "    </tr>\n",
       "    <tr>\n",
       "      <th>1</th>\n",
       "      <td>46652.0</td>\n",
       "      <td>31.0</td>\n",
       "      <td>0.01270</td>\n",
       "      <td>0.622</td>\n",
       "      <td>218293.0</td>\n",
       "      <td>0.890</td>\n",
       "      <td>0.95000</td>\n",
       "      <td>D</td>\n",
       "      <td>0.124</td>\n",
       "      <td>-7.043</td>\n",
       "      <td>Minor</td>\n",
       "      <td>0.0300</td>\n",
       "      <td>115.00200000000001</td>\n",
       "      <td>4-Apr</td>\n",
       "      <td>0.531</td>\n",
       "      <td>Electronic</td>\n",
       "    </tr>\n",
       "    <tr>\n",
       "      <th>2</th>\n",
       "      <td>30097.0</td>\n",
       "      <td>28.0</td>\n",
       "      <td>0.00306</td>\n",
       "      <td>0.620</td>\n",
       "      <td>215613.0</td>\n",
       "      <td>0.755</td>\n",
       "      <td>0.01180</td>\n",
       "      <td>G#</td>\n",
       "      <td>0.534</td>\n",
       "      <td>-4.617</td>\n",
       "      <td>Major</td>\n",
       "      <td>0.0345</td>\n",
       "      <td>127.994</td>\n",
       "      <td>4-Apr</td>\n",
       "      <td>0.333</td>\n",
       "      <td>Electronic</td>\n",
       "    </tr>\n",
       "    <tr>\n",
       "      <th>3</th>\n",
       "      <td>62177.0</td>\n",
       "      <td>34.0</td>\n",
       "      <td>0.02540</td>\n",
       "      <td>0.774</td>\n",
       "      <td>166875.0</td>\n",
       "      <td>0.700</td>\n",
       "      <td>0.00253</td>\n",
       "      <td>C#</td>\n",
       "      <td>0.157</td>\n",
       "      <td>-4.498</td>\n",
       "      <td>Major</td>\n",
       "      <td>0.2390</td>\n",
       "      <td>128.014</td>\n",
       "      <td>4-Apr</td>\n",
       "      <td>0.270</td>\n",
       "      <td>Electronic</td>\n",
       "    </tr>\n",
       "    <tr>\n",
       "      <th>4</th>\n",
       "      <td>24907.0</td>\n",
       "      <td>32.0</td>\n",
       "      <td>0.00465</td>\n",
       "      <td>0.638</td>\n",
       "      <td>222369.0</td>\n",
       "      <td>0.587</td>\n",
       "      <td>0.90900</td>\n",
       "      <td>F#</td>\n",
       "      <td>0.157</td>\n",
       "      <td>-6.266</td>\n",
       "      <td>Major</td>\n",
       "      <td>0.0413</td>\n",
       "      <td>145.036</td>\n",
       "      <td>4-Apr</td>\n",
       "      <td>0.323</td>\n",
       "      <td>Electronic</td>\n",
       "    </tr>\n",
       "  </tbody>\n",
       "</table>\n",
       "</div>"
      ],
      "text/plain": [
       "   instance_id  popularity  acousticness  danceability  duration_ms  energy  \\\n",
       "0      32894.0        27.0       0.00468         0.652         -1.0   0.941   \n",
       "1      46652.0        31.0       0.01270         0.622     218293.0   0.890   \n",
       "2      30097.0        28.0       0.00306         0.620     215613.0   0.755   \n",
       "3      62177.0        34.0       0.02540         0.774     166875.0   0.700   \n",
       "4      24907.0        32.0       0.00465         0.638     222369.0   0.587   \n",
       "\n",
       "   instrumentalness key  liveness  loudness   mode  speechiness  \\\n",
       "0           0.79200  A#     0.115    -5.201  Minor       0.0748   \n",
       "1           0.95000   D     0.124    -7.043  Minor       0.0300   \n",
       "2           0.01180  G#     0.534    -4.617  Major       0.0345   \n",
       "3           0.00253  C#     0.157    -4.498  Major       0.2390   \n",
       "4           0.90900  F#     0.157    -6.266  Major       0.0413   \n",
       "\n",
       "                tempo obtained_date  valence music_genre  \n",
       "0             100.889         4-Apr    0.759  Electronic  \n",
       "1  115.00200000000001         4-Apr    0.531  Electronic  \n",
       "2             127.994         4-Apr    0.333  Electronic  \n",
       "3             128.014         4-Apr    0.270  Electronic  \n",
       "4             145.036         4-Apr    0.323  Electronic  "
      ]
     },
     "execution_count": 31,
     "metadata": {},
     "output_type": "execute_result"
    }
   ],
   "source": [
    "# let's quickly preview the dataset\n",
    "df\n",
    "df.head()"
   ]
  },
  {
   "cell_type": "code",
   "execution_count": 32,
   "id": "809f0b00",
   "metadata": {},
   "outputs": [
    {
     "name": "stdout",
     "output_type": "stream",
     "text": [
      "(50005, 16)\n"
     ]
    }
   ],
   "source": [
    "print(df.shape)"
   ]
  },
  {
   "cell_type": "markdown",
   "id": "2168493f",
   "metadata": {},
   "source": [
    "Some preliminary cleaning before visualizing your data to ensure that the visualizations accurately reflect the data you have. For example, you may want to remove or impute any missing data before visualizing the distributions of the acoustic features. Additionally, you may want to transform the categorical data into numerical data before exploring relationships between features."
   ]
  },
  {
   "cell_type": "markdown",
   "id": "ec988af4",
   "metadata": {},
   "source": [
    "### Checking for outliers"
   ]
  },
  {
   "cell_type": "markdown",
   "id": "b70a1d42",
   "metadata": {},
   "source": [
    "A scatter plot matrix can be a good way to visualize the relationship between multiple predictors and identify outliers. In a scatter plot matrix, each predictor is plotted against all other predictors in the form of scatter plots. Outliers will be visible as points that fall outside the general pattern of the data.\n",
    "Indeed, exploring the pairwise relationships between the features can be a useful step in preparing the data for classification, even if the ultimate goal is to classify the genre of music."
   ]
  },
  {
   "cell_type": "code",
   "execution_count": 33,
   "id": "4a1f9f58",
   "metadata": {},
   "outputs": [],
   "source": [
    "# Use Seaborn to create a scatter matrix plot\n",
    "# sns.pairplot(df, hue='music_genre')"
   ]
  },
  {
   "cell_type": "markdown",
   "id": "431fa534",
   "metadata": {},
   "source": [
    "### Handling missing data\n",
    "There is randomly missing data, e.g. some of the durations of some of the songs are missing, as well as some of the auditory feature values. There are not many missing values, but you have to handle them somehow, either by imputation or by removing the missing data in some reasonable way."
   ]
  },
  {
   "cell_type": "code",
   "execution_count": 34,
   "id": "344ebc79",
   "metadata": {},
   "outputs": [
    {
     "data": {
      "text/plain": [
       "instance_id         5\n",
       "popularity          5\n",
       "acousticness        5\n",
       "danceability        5\n",
       "duration_ms         5\n",
       "energy              5\n",
       "instrumentalness    5\n",
       "key                 5\n",
       "liveness            5\n",
       "loudness            5\n",
       "mode                5\n",
       "speechiness         5\n",
       "tempo               5\n",
       "obtained_date       5\n",
       "valence             5\n",
       "music_genre         5\n",
       "dtype: int64"
      ]
     },
     "execution_count": 34,
     "metadata": {},
     "output_type": "execute_result"
    }
   ],
   "source": [
    "# Handling missing data\n",
    "df.isnull().sum()"
   ]
  },
  {
   "cell_type": "markdown",
   "id": "dfa9a68f",
   "metadata": {},
   "source": [
    "As there are only 5 missing values in the whole dataset per column and there are only 18 columns, i.e., 90 rows out of 50,005(0.17%) which we can even drop. "
   ]
  },
  {
   "cell_type": "code",
   "execution_count": 35,
   "id": "9cb292ca",
   "metadata": {},
   "outputs": [
    {
     "data": {
      "text/plain": [
       "instance_id         0\n",
       "popularity          0\n",
       "acousticness        0\n",
       "danceability        0\n",
       "duration_ms         0\n",
       "energy              0\n",
       "instrumentalness    0\n",
       "key                 0\n",
       "liveness            0\n",
       "loudness            0\n",
       "mode                0\n",
       "speechiness         0\n",
       "tempo               0\n",
       "obtained_date       0\n",
       "valence             0\n",
       "music_genre         0\n",
       "dtype: int64"
      ]
     },
     "execution_count": 35,
     "metadata": {},
     "output_type": "execute_result"
    }
   ],
   "source": [
    "# The inplace=True parameter will modify the DataFrame in place, \n",
    "# meaning that it will be updated and the missing values will be removed permanently. \n",
    "# df.dropna(inplace=True)\n",
    "\n",
    "df = df.dropna()\n",
    "df.isnull().sum()"
   ]
  },
  {
   "cell_type": "code",
   "execution_count": 36,
   "id": "044716c1",
   "metadata": {},
   "outputs": [
    {
     "name": "stdout",
     "output_type": "stream",
     "text": [
      "instance_id            0\n",
      "popularity             0\n",
      "acousticness           0\n",
      "danceability           0\n",
      "duration_ms            0\n",
      "energy                 0\n",
      "instrumentalness       0\n",
      "key                    0\n",
      "liveness               0\n",
      "loudness               0\n",
      "mode                   0\n",
      "speechiness            0\n",
      "tempo               4980\n",
      "obtained_date          0\n",
      "valence                0\n",
      "music_genre            0\n",
      "dtype: int64\n"
     ]
    }
   ],
   "source": [
    "# Count the number of '?' values in each column of the DataFrame\n",
    "print(df.isin(['?']).sum())"
   ]
  },
  {
   "cell_type": "markdown",
   "id": "85c0247a",
   "metadata": {},
   "source": [
    "We found 4980 missing values in one column \"tempo\" which is quite a large number, and if it is only for one column, it might be a good idea to drop that column from your analysis. \n",
    "\n",
    "As there are only 4980 missing values in the whole dataset for one column and there are only 16 columns, i.e., 4980 rows out of 50,005(10%) which .... ??? should we drop ??? \n",
    "\n",
    "    ### FOR NOW I WILL DROP THE WHOLE COLUMN TO GO BACK TO THIS AND ACTUALLY LOOOK FOR DIFFERENT WAYS TO DO THIS "
   ]
  },
  {
   "cell_type": "code",
   "execution_count": 37,
   "id": "8b721a9f",
   "metadata": {},
   "outputs": [],
   "source": [
    "# TO DO LATERRRRR - DISCOVER DIFFERENT WAYS I CAN DEAL WITH THESES MISSING VALUESS APPART FROM DIRECT DROPPING THEM "
   ]
  },
  {
   "cell_type": "code",
   "execution_count": 38,
   "id": "7bc1ceb4",
   "metadata": {},
   "outputs": [],
   "source": [
    "df = df.drop(columns=['tempo'])"
   ]
  },
  {
   "cell_type": "markdown",
   "id": "ce0f04fe",
   "metadata": {},
   "source": [
    "### Variable encoding \n",
    "* The acoustic features are unlikely to be normally distributed.\n",
    "* Some of the data is provided in string format, e.g. the key. This will need to be transformed into numerical data to be useful.\n",
    "* Some of the data is provided in categorical format, e.g. mode. This will need to be dummy coded. *The category labels of the genres will need to be transformed into numerical labels.\n",
    "* Make sure not to normalize categorical values (like mode) for the purposes of doing dimensionality reduction."
   ]
  },
  {
   "cell_type": "markdown",
   "id": "9c6b32cb",
   "metadata": {},
   "source": [
    "### Acoustic Features transformation\n",
    "Transformation refers to changing the scale, shape, or distribution of the data. In the case of acoustic features, we need to transform them to better approximate a normal distribution, which can be done using methods like Box-Cox or log transformations.\n",
    "\n",
    "\n",
    "Before making the acoustic features normally distributed, it's important to carefully examine the distribution of the data first and choose the appropriate transformation method based on the characteristics of the data. Thus, let's visualise the distribution of the  Acoustic Feature. "
   ]
  },
  {
   "cell_type": "code",
   "execution_count": 39,
   "id": "722aa302",
   "metadata": {},
   "outputs": [
    {
     "data": {
      "image/png": "[encoded data removed]",
      "text/plain": [
       "<Figure size 640x480 with 1 Axes>"
      ]
     },
     "metadata": {},
     "output_type": "display_data"
    }
   ],
   "source": [
    "# checking for outliers for the acousticness feature\n",
    "\n",
    "import seaborn as sns\n",
    "import matplotlib.pyplot as plt\n",
    "\n",
    "# assume your acousticness data is stored in a pandas Series called \"acousticness\"\n",
    "sns.boxplot(x=df['acousticness'])\n",
    "plt.show()"
   ]
  },
  {
   "cell_type": "markdown",
   "id": "e26f5960",
   "metadata": {},
   "source": [
    "Since all the values in the box plot are clustered together, it indicates that there is not much variability in the data and there are no extreme values (outliers)."
   ]
  },
  {
   "cell_type": "code",
   "execution_count": 40,
   "id": "35577fa7",
   "metadata": {},
   "outputs": [
    {
     "data": {
      "image/png": "[encoded data removed]",
      "text/plain": [
       "<Figure size 640x480 with 1 Axes>"
      ]
     },
     "metadata": {},
     "output_type": "display_data"
    }
   ],
   "source": [
    "# data visualisation \n",
    "\n",
    "import matplotlib.pyplot as plt\n",
    "from statsmodels.graphics.gofplots import qqplot\n",
    "\n",
    "# create a Q-Q plot of the distribution of 'acousticness feature'\n",
    "# line='s' specifies that a standard normal distribution line is added to the plot for comparison\n",
    "qqplot(df['acousticness'], line='s')\n",
    "plt.title ('Acousticness distribution pre transformation')\n",
    "plt.show()"
   ]
  },
  {
   "cell_type": "markdown",
   "id": "4aafdd3f",
   "metadata": {},
   "source": [
    "An increasing plot indicates that your data deviates from a normal distribution. \n",
    "Since the distribution of the acousticness feature is not normal, we may consider using a non-linear transformation such as the Box-Cox transformation or the log transformation to normalize the data."
   ]
  },
  {
   "cell_type": "code",
   "execution_count": 41,
   "id": "f44e351f",
   "metadata": {},
   "outputs": [
    {
     "data": {
      "text/plain": [
       "<Axes: >"
      ]
     },
     "execution_count": 41,
     "metadata": {},
     "output_type": "execute_result"
    },
    {
     "data": {
      "image/png": "[encoded data removed]",
      "text/plain": [
       "<Figure size 640x480 with 1 Axes>"
      ]
     },
     "metadata": {},
     "output_type": "display_data"
    }
   ],
   "source": [
    "# using the log transformation to normalize the data\n",
    "\n",
    "# Add a small constant value\n",
    "const = 0.0001\n",
    "acousticness = df['acousticness'] + const\n",
    "\n",
    "# Apply log transformation\n",
    "acousticness_log = np.log(acousticness)\n",
    "\n",
    "# Check the distribution of the transformed data using a histogram\n",
    "acousticness_log.hist()"
   ]
  },
  {
   "cell_type": "markdown",
   "id": "6e83a5cc",
   "metadata": {},
   "source": [
    "Since we are getting an increasing data in the histogram after applying log transformation to the acousticness feature, it may be an indication that the distribution is not well-suited for a log transformation.\n",
    "\n",
    "In such cases, you may want to consider using other transformations, such as Box-Cox. "
   ]
  },
  {
   "cell_type": "code",
   "execution_count": 57,
   "id": "f878a85e",
   "metadata": {},
   "outputs": [
    {
     "name": "stdout",
     "output_type": "stream",
     "text": [
      "/Users/mac/Desktop/Spring 2023 - Junior Year/ML/Capstone _project/Classification\r\n"
     ]
    }
   ],
   "source": [
    "! pwd"
   ]
  },
  {
   "cell_type": "code",
   "execution_count": 43,
   "id": "3d18a0c0",
   "metadata": {},
   "outputs": [
    {
     "data": {
      "image/png": "[encoded data removed]",
      "text/plain": [
       "<Figure size 640x480 with 1 Axes>"
      ]
     },
     "metadata": {},
     "output_type": "display_data"
    }
   ],
   "source": [
    "# using the Box-Cox transformation to normalize the data\n",
    "import os\n",
    "from scipy import stats\n",
    "\n",
    "# Select the column you want to transform\n",
    "# column = df['acousticness'] + const\n",
    "df['acousticness'] = df['acousticness'] + const\n",
    "\n",
    "\n",
    "# Apply Box-Cox transformation\n",
    "# transformed_col, _ = stats.boxcox(column)\n",
    "transformed_col, _ = stats.boxcox( df['acousticness'])\n",
    "\n",
    "\n",
    "# Update the dataframe with the transformed column\n",
    "acoustic_data_transformed = transformed_col\n",
    "\n",
    "\n",
    "# apply Box-Cox transformation\n",
    "# acoustic_data_transformed, lam = stats.boxcox(column)\n",
    "acoustic_data_transformed, lam = stats.boxcox(df['acousticness'])\n",
    "\n",
    "# visualize transformed data using histogram\n",
    "fig, ax = plt.subplots()\n",
    "ax.hist(acoustic_data_transformed, bins=50)\n",
    "ax.set_title('Histogram of Transformed Acoustic Data (boxcox)')\n",
    "ax.set_xlabel('Transformed Values')\n",
    "ax.set_ylabel('Frequency')\n",
    "\n",
    "plt.show()"
   ]
  },
  {
   "cell_type": "code",
   "execution_count": 44,
   "id": "9d7e6432",
   "metadata": {},
   "outputs": [
    {
     "data": {
      "image/png": "[encoded data removed]",
      "text/plain": [
       "<Figure size 640x480 with 1 Axes>"
      ]
     },
     "metadata": {},
     "output_type": "display_data"
    }
   ],
   "source": [
    "import matplotlib.pyplot as plt\n",
    "from statsmodels.graphics.gofplots import qqplot\n",
    "\n",
    "# create a Q-Q plot of the distribution of 'acousticness feature'\n",
    "# line='s' specifies that a standard normal distribution line is added to the plot for comparison\n",
    "qqplot(acoustic_data_transformed, line='s')\n",
    "plt.title ('Acousticness distribution post transformation with Box-Cox transformation')\n",
    "plt.show()"
   ]
  },
  {
   "cell_type": "markdown",
   "id": "8c3b69d0",
   "metadata": {},
   "source": [
    "After applying the Box-Cox transformation on the Acousticness feature, we can see a better normal distribution.  "
   ]
  },
  {
   "cell_type": "markdown",
   "id": "0b3e1b77",
   "metadata": {},
   "source": [
    "### Transformation of the features in string format and categorical format into numerical data to be useful\n",
    "\n",
    "* Some of the data is provided in string format, e.g. the key. This will need to be transformed into numerical data to be useful.\n",
    "\n",
    "* Some of the data is provided in categorical format, e.g. mode. This will need to be dummy coded. *The category labels of the genres will need to be transformed into numerical labels.\n",
    "\n",
    "* The category labels of the genres will need to be transformed into numerical labels.\n"
   ]
  },
  {
   "cell_type": "markdown",
   "id": "2b27fcd7",
   "metadata": {},
   "source": [
    "To transform text-based features into numerical data, you can use a technique called one-hot encoding. One-hot encoding converts categorical variables into binary vectors that can be used in machine learning algorithms."
   ]
  },
  {
   "cell_type": "code",
   "execution_count": 45,
   "id": "9df89540",
   "metadata": {},
   "outputs": [
    {
     "name": "stdout",
     "output_type": "stream",
     "text": [
      "   key_A  key_A#  key_B  key_C  key_C#  key_D  key_D#  key_E  key_F  key_F#  \\\n",
      "0    0.0     1.0    0.0    0.0     0.0    0.0     0.0    0.0    0.0     0.0   \n",
      "1    0.0     0.0    0.0    0.0     0.0    1.0     0.0    0.0    0.0     0.0   \n",
      "2    0.0     0.0    0.0    0.0     0.0    0.0     0.0    0.0    0.0     0.0   \n",
      "3    0.0     0.0    0.0    0.0     1.0    0.0     0.0    0.0    0.0     0.0   \n",
      "4    0.0     0.0    0.0    0.0     0.0    0.0     0.0    0.0    0.0     1.0   \n",
      "\n",
      "   ...  popularity  acousticness  danceability  duration_ms  energy  \\\n",
      "0  ...        27.0       0.00478         0.652         -1.0   0.941   \n",
      "1  ...        31.0       0.01280         0.622     218293.0   0.890   \n",
      "2  ...        28.0       0.00316         0.620     215613.0   0.755   \n",
      "3  ...        34.0       0.02550         0.774     166875.0   0.700   \n",
      "4  ...        32.0       0.00475         0.638     222369.0   0.587   \n",
      "\n",
      "   instrumentalness  liveness  loudness  speechiness  valence  \n",
      "0           0.79200     0.115    -5.201       0.0748    0.759  \n",
      "1           0.95000     0.124    -7.043       0.0300    0.531  \n",
      "2           0.01180     0.534    -4.617       0.0345    0.333  \n",
      "3           0.00253     0.157    -4.498       0.2390    0.270  \n",
      "4           0.90900     0.157    -6.266       0.0413    0.323  \n",
      "\n",
      "[5 rows x 31 columns]\n"
     ]
    }
   ],
   "source": [
    "# ## [ WHOLE CODE ]\n",
    "# # Detect string and categorical variables\n",
    "# string_cols = []\n",
    "# cat_cols = []\n",
    "# for col in df.columns:\n",
    "#     if df[col].dtype == 'object' :\n",
    "#         if len(df[col].unique()) < 10:\n",
    "#             cat_cols.append(col)\n",
    "#         else:\n",
    "#             string_cols.append(col)\n",
    "\n",
    "# # Apply one-hot encoding to categorical variables\n",
    "# cat_dummies = pd.get_dummies(df[cat_cols], drop_first=True)\n",
    "\n",
    "# # Apply one-hot encoding to string format variables\n",
    "# string_dummies = pd.get_dummies(df[string_cols], drop_first=True)\n",
    "\n",
    "# # Concatenate the dummy variables with the original dataframe\n",
    "# df_encoded = pd.concat([df.drop(columns=cat_cols+string_cols), cat_dummies, string_dummies], axis=1)\n",
    "\n",
    "\n",
    "import pandas as pd\n",
    "from sklearn.preprocessing import OneHotEncoder, LabelEncoder\n",
    "\n",
    "# FOR NOW - JUST TO BE ABLE TO MOVE ON WILL DEAL WITH ALL NON NUMERICAL SAME WAY - TO GO BACK ET TAKE ACCOUNT OF WHICH \n",
    "# LABELS TO USE LABEL ENCODING FOR AND WHICH TO USE ONE HOT ENCODING\n",
    "\n",
    "# Define the categorical columns to be one-hot encoded\n",
    "categorical_cols = ['key', 'mode', 'obtained_date']\n",
    "\n",
    "# One-hot encode the categorical columns\n",
    "onehot_encoder = OneHotEncoder(handle_unknown='ignore')\n",
    "df_encoded = pd.DataFrame(onehot_encoder.fit_transform(df[categorical_cols]).toarray(),\n",
    "                          columns=onehot_encoder.get_feature_names_out(categorical_cols))\n",
    "\n",
    "# Label encode the target variable (music_genre column)\n",
    "label_encoder = LabelEncoder()\n",
    "df_encoded['music_genre'] = label_encoder.fit_transform(df['music_genre'])\n",
    "\n",
    "\n",
    "# Append the non-categorical columns to the encoded dataframe\n",
    "df_encoded = pd.concat([df_encoded, df.drop(columns=categorical_cols + ['music_genre'])], axis=1)\n",
    "\n",
    "# Print the first few rows of the encoded dataframe\n",
    "print(df_encoded.head()) "
   ]
  },
  {
   "cell_type": "code",
   "execution_count": 46,
   "id": "23accc78",
   "metadata": {},
   "outputs": [
    {
     "name": "stdout",
     "output_type": "stream",
     "text": [
      "(50005, 31)\n"
     ]
    }
   ],
   "source": [
    "# if I check the size of the dataset now ... \n",
    "print(df_encoded.shape)"
   ]
  },
  {
   "cell_type": "code",
   "execution_count": 47,
   "id": "55ea6b0e",
   "metadata": {},
   "outputs": [],
   "source": [
    "# [ CODE JUST FOR TEST -> TESTING FOR SPECIFIC CASES ... !!!  ] \n",
    "\n",
    "# finding the variables in string format and appending to vector string columns \n",
    "\n",
    "# drop columns of artist_name and track_name ???? \n",
    "# df = df.drop(['artist_name', 'track_name'], axis=1)\n",
    "\n",
    "# string_columns = []\n",
    "# for column in df.columns:\n",
    "#     if df[column].dtype == 'object': # check if column dtype is object (i.e., string)\n",
    "#         string_columns.append(column)\n",
    "# print (string_columns)"
   ]
  },
  {
   "cell_type": "code",
   "execution_count": 48,
   "id": "48df9247",
   "metadata": {},
   "outputs": [],
   "source": [
    "# import pandas as pd\n",
    "\n",
    "# # create a new dataframe to store the one-hot encoded variables\n",
    "# one_hot_df = pd.DataFrame()\n",
    "\n",
    "# # iterate through each string column and one-hot encode\n",
    "# for col in string_columns:\n",
    "#     one_hot = pd.get_dummies(df[col], prefix=col)\n",
    "#     one_hot_df = pd.concat([one_hot_df, one_hot], axis=1)\n",
    "\n",
    "# # drop the original string columns from the original dataframe\n",
    "# df = df.drop(string_columns, axis=1)\n",
    "\n",
    "# # concatenate the original dataframe with the one-hot encoded dataframe\n",
    "# df = pd.concat([df, one_hot_df], axis=1)"
   ]
  },
  {
   "cell_type": "code",
   "execution_count": 49,
   "id": "7c26be68",
   "metadata": {},
   "outputs": [],
   "source": [
    "# # print shape of df to double check new size\n",
    "# print(df.shape)\n",
    "# df.head()"
   ]
  },
  {
   "cell_type": "code",
   "execution_count": 50,
   "id": "4dd1f060",
   "metadata": {},
   "outputs": [],
   "source": [
    "### DO I JUST DROP VARIABLE track_name ??? or do I only select the most important columns ?? "
   ]
  },
  {
   "cell_type": "markdown",
   "id": "e2848982",
   "metadata": {},
   "source": [
    "Considering how our new encoded dataframe is very large (50000, 77989), we can consider reducing the number of columns in your one-hot encoded dataframe. One way to do this is by selecting only the most important columns, based on their correlation with your target variable or their importance in your classification model. You can use techniques like correlation matrix, feature importance, or even feature selection algorithms to determine which columns to keep."
   ]
  },
  {
   "cell_type": "code",
   "execution_count": 51,
   "id": "15524bdc",
   "metadata": {},
   "outputs": [],
   "source": [
    "# # Calculate the correlation matrix\n",
    "# corr_matrix = df_encoded.corr().abs()\n",
    "\n",
    "# # Select upper triangle of correlation matrix\n",
    "# upper = corr_matrix.where(pd.np.triu(pd.np.ones(corr_matrix.shape), k=1).astype(bool))\n",
    "\n",
    "# # Set the threshold value\n",
    "# threshold = 0.8\n",
    "\n",
    "# # Find the columns to drop\n",
    "# to_drop = [column for column in upper.columns if any(upper[column] > threshold)]\n",
    "\n",
    "# # Drop the selected columns from the dataset\n",
    "# df_encoded = df_encoded.drop(columns=to_drop)\n",
    "\n",
    "# # print the new size of the dataset \n",
    "# print(df_encoded.shape)\n",
    "\n",
    "# this feature selection method is MAKING THE KERNEL DIEEEEE ;((((((( So i m trying others .... "
   ]
  },
  {
   "cell_type": "markdown",
   "id": "76f8faf8",
   "metadata": {},
   "source": [
    "In this code, we found the columns that have a correlation higher than the threshold value and store them in a list called to_drop. Finally, we drop the selected columns from the dataset using the drop() function of pandas. We then get a much smaller dataset with less features; with a shape . "
   ]
  },
  {
   "cell_type": "markdown",
   "id": "8784b572",
   "metadata": {},
   "source": [
    "Feature selection can be used to reduce the number of features before applying PCA. This can speed up the computation and improve the interpretability of the results. Once you have a smaller set of relevant features, you can apply PCA to further reduce the number of dimensions while preserving the most important information."
   ]
  },
  {
   "cell_type": "markdown",
   "id": "e7a3a6c2",
   "metadata": {},
   "source": [
    "# Exploratory Data Analysis\n",
    "In this section, you can explore the data to gain insights about the distribution of features, correlation between features, and identify any patterns or trends in the data."
   ]
  },
  {
   "cell_type": "markdown",
   "id": "27fe286f",
   "metadata": {},
   "source": [
    "## Dimentionality reduction\n",
    "Dimensionality reduction is often part of exploratory data analysis as it helps in visualizing and understanding high-dimensional data by reducing the number of features. By reducing the dimensionality of the data, we can better understand the relationships between variables and identify patterns in the data. "
   ]
  },
  {
   "cell_type": "markdown",
   "id": "0e297cc5",
   "metadata": {},
   "source": [
    "The choice of dimensionality reduction technique depends on various factors such as the size and complexity of the dataset, the goal of the analysis, and the computational resources available.\n",
    "For the project, we have 18 features and our goal is to perform a classification task, it may be appropriate to use a supervised dimensionality reduction technique such as Linear Discriminant Analysis (LDA) or Quadratic Discriminant Analysis (QDA), which aim to maximize the separation between different classes.\n",
    "\n",
    "N.B: Note that the dimentionality reduction is not used for clustering the data, but for identifying the most important variables that can be used in classification models."
   ]
  },
  {
   "cell_type": "code",
   "execution_count": 52,
   "id": "f9329b6f",
   "metadata": {},
   "outputs": [
    {
     "data": {
      "text/plain": [
       "key_A                  5\n",
       "key_A#                 5\n",
       "key_B                  5\n",
       "key_C                  5\n",
       "key_C#                 5\n",
       "key_D                  5\n",
       "key_D#                 5\n",
       "key_E                  5\n",
       "key_F                  5\n",
       "key_F#                 5\n",
       "key_G                  5\n",
       "key_G#                 5\n",
       "mode_Major             5\n",
       "mode_Minor             5\n",
       "obtained_date_0/4      5\n",
       "obtained_date_1-Apr    5\n",
       "obtained_date_3-Apr    5\n",
       "obtained_date_4-Apr    5\n",
       "obtained_date_5-Apr    5\n",
       "music_genre            5\n",
       "instance_id            5\n",
       "popularity             5\n",
       "acousticness           5\n",
       "danceability           5\n",
       "duration_ms            5\n",
       "energy                 5\n",
       "instrumentalness       5\n",
       "liveness               5\n",
       "loudness               5\n",
       "speechiness            5\n",
       "valence                5\n",
       "dtype: int64"
      ]
     },
     "execution_count": 52,
     "metadata": {},
     "output_type": "execute_result"
    }
   ],
   "source": [
    "df_encoded.isnull().sum()"
   ]
  },
  {
   "cell_type": "code",
   "execution_count": 53,
   "id": "d17933a1",
   "metadata": {},
   "outputs": [
    {
     "data": {
      "text/plain": [
       "key_A                  0\n",
       "key_A#                 0\n",
       "key_B                  0\n",
       "key_C                  0\n",
       "key_C#                 0\n",
       "key_D                  0\n",
       "key_D#                 0\n",
       "key_E                  0\n",
       "key_F                  0\n",
       "key_F#                 0\n",
       "key_G                  0\n",
       "key_G#                 0\n",
       "mode_Major             0\n",
       "mode_Minor             0\n",
       "obtained_date_0/4      0\n",
       "obtained_date_1-Apr    0\n",
       "obtained_date_3-Apr    0\n",
       "obtained_date_4-Apr    0\n",
       "obtained_date_5-Apr    0\n",
       "music_genre            0\n",
       "instance_id            0\n",
       "popularity             0\n",
       "acousticness           0\n",
       "danceability           0\n",
       "duration_ms            0\n",
       "energy                 0\n",
       "instrumentalness       0\n",
       "liveness               0\n",
       "loudness               0\n",
       "speechiness            0\n",
       "valence                0\n",
       "dtype: int64"
      ]
     },
     "execution_count": 53,
     "metadata": {},
     "output_type": "execute_result"
    }
   ],
   "source": [
    "# drop in case there is any left missing data \n",
    "df_encoded = df_encoded.dropna()\n",
    "df_encoded.isnull().sum()"
   ]
  },
  {
   "cell_type": "code",
   "execution_count": 54,
   "id": "92d5e31f",
   "metadata": {},
   "outputs": [
    {
     "data": {
      "image/png": "[encoded data removed]",
      "text/plain": [
       "<Figure size 640x480 with 1 Axes>"
      ]
     },
     "metadata": {},
     "output_type": "display_data"
    }
   ],
   "source": [
    "from sklearn.decomposition import PCA\n",
    "import matplotlib.pyplot as plt\n",
    "\n",
    "# Create PCA object with the number of components you want to keep\n",
    "# pca = PCA(n_components=2) # did not give good cluster \n",
    "pca = PCA(n_components=2, whiten = true) \n",
    "\n",
    "# Fit and transform the data to the new dimensionality\n",
    "X_pca = pca.fit_transform(df_encoded)\n",
    "\n",
    "# Plot the results\n",
    "plt.scatter(X_pca[:, 0], X_pca[:, 1])\n",
    "plt.xlabel('PC1')\n",
    "plt.ylabel('PC2')\n",
    "plt.show()"
   ]
  },
  {
   "cell_type": "code",
   "execution_count": 56,
   "id": "81bba423",
   "metadata": {},
   "outputs": [
    {
     "name": "stdout",
     "output_type": "stream",
     "text": [
      "(49995, 2)\n"
     ]
    }
   ],
   "source": [
    "print(X_pca.shape) "
   ]
  },
  {
   "cell_type": "markdown",
   "id": "a5923464",
   "metadata": {},
   "source": [
    "In the scatter plot, each point represents a song in a two-dimensional space defined by the first two principal components. You can use this plot to visually inspect if there are any clusters of songs that belong to a specific genre or if the songs are evenly distributed across the space. This can give you an idea of how well a machine learning model might be able to predict the genre based on the selected features."
   ]
  },
  {
   "cell_type": "markdown",
   "id": "ca3ca6f5",
   "metadata": {},
   "source": [
    "You can also calculate the explained variance ratio for each principal component to see how much of the variance in the data is captured by each component. This can help you decide how many principal components to keep for your analysis."
   ]
  },
  {
   "cell_type": "markdown",
   "id": "afe2b71f",
   "metadata": {},
   "source": [
    "We are not really seeing clear clusters from PCA. \n",
    "If you are not seeing clear clusters after performing PCA, it may be a good idea to try different clustering algorithms or to explore other dimensionality reduction techniques to see if they can help identify clusters in the data. Additionally, it may be helpful to further explore the data and the problem domain to gain a better understanding of the underlying structure of the data."
   ]
  },
  {
   "cell_type": "markdown",
   "id": "318c8ffd",
   "metadata": {},
   "source": [
    "# Model Development\n",
    " In this section, you can split the data into training and testing sets, choose and train a suitable machine learning model (such as a decision tree or a random forest), and evaluate the model's performance on the test set."
   ]
  },
  {
   "cell_type": "markdown",
   "id": "47d001f0",
   "metadata": {},
   "source": [
    "Since you have already performed dimensionality reduction using PCA, you can try using a classification model such as a Random Forest Classifier or a Support Vector Machine (SVM) to classify the songs into their respective genres.\n",
    "\n",
    "Random Forest is a powerful algorithm that combines multiple decision trees to achieve high accuracy. It can handle high-dimensional data and noisy data, making it a good choice for your project. You can use the **`RandomForestClassifier`** class from scikit-learn to implement this model.\n",
    "\n",
    "SVM is another popular algorithm for classification that works well in high-dimensional spaces. It tries to find the best hyperplane that separates the data into different classes. Scikit-learn provides the **`SVC`** (Support Vector Classification) class for SVM classification."
   ]
  },
  {
   "cell_type": "code",
   "execution_count": 55,
   "id": "e2e63919",
   "metadata": {},
   "outputs": [
    {
     "ename": "ValueError",
     "evalue": "Found input variables with inconsistent numbers of samples: [49995, 50005]",
     "output_type": "error",
     "traceback": [
      "\u001b[0;31m---------------------------------------------------------------------------\u001b[0m",
      "\u001b[0;31mValueError\u001b[0m                                Traceback (most recent call last)",
      "Cell \u001b[0;32mIn[55], line 6\u001b[0m\n\u001b[1;32m      3\u001b[0m \u001b[38;5;28;01mfrom\u001b[39;00m \u001b[38;5;21;01msklearn\u001b[39;00m\u001b[38;5;21;01m.\u001b[39;00m\u001b[38;5;21;01mmetrics\u001b[39;00m \u001b[38;5;28;01mimport\u001b[39;00m accuracy_score\n\u001b[1;32m      5\u001b[0m \u001b[38;5;66;03m# Split the data into training and testing sets\u001b[39;00m\n\u001b[0;32m----> 6\u001b[0m X_train, X_test, y_train, y_test \u001b[38;5;241m=\u001b[39m \u001b[43mtrain_test_split\u001b[49m\u001b[43m(\u001b[49m\u001b[43mX_pca\u001b[49m\u001b[43m,\u001b[49m\u001b[43m \u001b[49m\u001b[43my\u001b[49m\u001b[43m,\u001b[49m\u001b[43m \u001b[49m\u001b[43mtest_size\u001b[49m\u001b[38;5;241;43m=\u001b[39;49m\u001b[38;5;241;43m0.2\u001b[39;49m\u001b[43m,\u001b[49m\u001b[43m \u001b[49m\u001b[43mrandom_state\u001b[49m\u001b[38;5;241;43m=\u001b[39;49m\u001b[38;5;241;43m42\u001b[39;49m\u001b[43m)\u001b[49m\n\u001b[1;32m      8\u001b[0m \u001b[38;5;66;03m# Create a RandomForestClassifier object and fit it to the training data\u001b[39;00m\n\u001b[1;32m      9\u001b[0m rfc \u001b[38;5;241m=\u001b[39m RandomForestClassifier(n_estimators\u001b[38;5;241m=\u001b[39m\u001b[38;5;241m100\u001b[39m, random_state\u001b[38;5;241m=\u001b[39m\u001b[38;5;241m42\u001b[39m)\n",
      "File \u001b[0;32m/opt/anaconda3/lib/python3.9/site-packages/sklearn/model_selection/_split.py:2559\u001b[0m, in \u001b[0;36mtrain_test_split\u001b[0;34m(test_size, train_size, random_state, shuffle, stratify, *arrays)\u001b[0m\n\u001b[1;32m   2556\u001b[0m \u001b[38;5;28;01mif\u001b[39;00m n_arrays \u001b[38;5;241m==\u001b[39m \u001b[38;5;241m0\u001b[39m:\n\u001b[1;32m   2557\u001b[0m     \u001b[38;5;28;01mraise\u001b[39;00m \u001b[38;5;167;01mValueError\u001b[39;00m(\u001b[38;5;124m\"\u001b[39m\u001b[38;5;124mAt least one array required as input\u001b[39m\u001b[38;5;124m\"\u001b[39m)\n\u001b[0;32m-> 2559\u001b[0m arrays \u001b[38;5;241m=\u001b[39m \u001b[43mindexable\u001b[49m\u001b[43m(\u001b[49m\u001b[38;5;241;43m*\u001b[39;49m\u001b[43marrays\u001b[49m\u001b[43m)\u001b[49m\n\u001b[1;32m   2561\u001b[0m n_samples \u001b[38;5;241m=\u001b[39m _num_samples(arrays[\u001b[38;5;241m0\u001b[39m])\n\u001b[1;32m   2562\u001b[0m n_train, n_test \u001b[38;5;241m=\u001b[39m _validate_shuffle_split(\n\u001b[1;32m   2563\u001b[0m     n_samples, test_size, train_size, default_test_size\u001b[38;5;241m=\u001b[39m\u001b[38;5;241m0.25\u001b[39m\n\u001b[1;32m   2564\u001b[0m )\n",
      "File \u001b[0;32m/opt/anaconda3/lib/python3.9/site-packages/sklearn/utils/validation.py:443\u001b[0m, in \u001b[0;36mindexable\u001b[0;34m(*iterables)\u001b[0m\n\u001b[1;32m    424\u001b[0m \u001b[38;5;124;03m\"\"\"Make arrays indexable for cross-validation.\u001b[39;00m\n\u001b[1;32m    425\u001b[0m \n\u001b[1;32m    426\u001b[0m \u001b[38;5;124;03mChecks consistent length, passes through None, and ensures that everything\u001b[39;00m\n\u001b[0;32m   (...)\u001b[0m\n\u001b[1;32m    439\u001b[0m \u001b[38;5;124;03m    sparse matrix, or dataframe) or `None`.\u001b[39;00m\n\u001b[1;32m    440\u001b[0m \u001b[38;5;124;03m\"\"\"\u001b[39;00m\n\u001b[1;32m    442\u001b[0m result \u001b[38;5;241m=\u001b[39m [_make_indexable(X) \u001b[38;5;28;01mfor\u001b[39;00m X \u001b[38;5;129;01min\u001b[39;00m iterables]\n\u001b[0;32m--> 443\u001b[0m \u001b[43mcheck_consistent_length\u001b[49m\u001b[43m(\u001b[49m\u001b[38;5;241;43m*\u001b[39;49m\u001b[43mresult\u001b[49m\u001b[43m)\u001b[49m\n\u001b[1;32m    444\u001b[0m \u001b[38;5;28;01mreturn\u001b[39;00m result\n",
      "File \u001b[0;32m/opt/anaconda3/lib/python3.9/site-packages/sklearn/utils/validation.py:397\u001b[0m, in \u001b[0;36mcheck_consistent_length\u001b[0;34m(*arrays)\u001b[0m\n\u001b[1;32m    395\u001b[0m uniques \u001b[38;5;241m=\u001b[39m np\u001b[38;5;241m.\u001b[39munique(lengths)\n\u001b[1;32m    396\u001b[0m \u001b[38;5;28;01mif\u001b[39;00m \u001b[38;5;28mlen\u001b[39m(uniques) \u001b[38;5;241m>\u001b[39m \u001b[38;5;241m1\u001b[39m:\n\u001b[0;32m--> 397\u001b[0m     \u001b[38;5;28;01mraise\u001b[39;00m \u001b[38;5;167;01mValueError\u001b[39;00m(\n\u001b[1;32m    398\u001b[0m         \u001b[38;5;124m\"\u001b[39m\u001b[38;5;124mFound input variables with inconsistent numbers of samples: \u001b[39m\u001b[38;5;132;01m%r\u001b[39;00m\u001b[38;5;124m\"\u001b[39m\n\u001b[1;32m    399\u001b[0m         \u001b[38;5;241m%\u001b[39m [\u001b[38;5;28mint\u001b[39m(l) \u001b[38;5;28;01mfor\u001b[39;00m l \u001b[38;5;129;01min\u001b[39;00m lengths]\n\u001b[1;32m    400\u001b[0m     )\n",
      "\u001b[0;31mValueError\u001b[0m: Found input variables with inconsistent numbers of samples: [49995, 50005]"
     ]
    }
   ],
   "source": [
    "from sklearn.model_selection import train_test_split\n",
    "from sklearn.ensemble import RandomForestClassifier\n",
    "from sklearn.metrics import accuracy_score\n",
    "\n",
    "# Split the data into training and testing sets\n",
    "X_train, X_test, y_train, y_test = train_test_split(X_pca, y, test_size=0.2, random_state=42)\n",
    "\n",
    "# Create a RandomForestClassifier object and fit it to the training data\n",
    "rfc = RandomForestClassifier(n_estimators=100, random_state=42)\n",
    "rfc.fit(X_train, y_train)\n",
    "\n",
    "# Use the trained model to predict the classes of the test set\n",
    "y_pred = rfc.predict(X_test)\n",
    "\n",
    "# Evaluate the performance of the model by computing the accuracy score\n",
    "accuracy = accuracy_score(y_test, y_pred)\n",
    "print(f\"Accuracy: {accuracy:.2f}\")\n",
    "\n",
    "\n",
    "from sklearn.model_selection import train_test_split\n",
    "\n",
    "# Split the dataset into training and test sets with a 80:20 ratio\n",
    "X_train, X_test, y_train, y_test = train_test_split(X, y, test_size=0.2, random_state=42)\n",
    "\n",
    "# Fit the RandomForestClassifier model to the training data\n",
    "rfc.fit(X_train, y_train)\n",
    "\n",
    "# Predict the labels of the test data\n",
    "y_pred = rfc.predict(X_test)\n",
    "\n",
    "# Evaluate the performance of the model on the test data\n",
    "accuracy = accuracy_score(y_test, y_pred)\n",
    "print('Accuracy:', accuracy)"
   ]
  },
  {
   "cell_type": "code",
   "execution_count": null,
   "id": "e0d05e8d",
   "metadata": {},
   "outputs": [],
   "source": []
  },
  {
   "cell_type": "markdown",
   "id": "e93e2ed6",
   "metadata": {},
   "source": [
    "# Model Tuning\n",
    "In this section, you can fine-tune the hyperparameters of the model to achieve better performance. You can use techniques such as grid search or random search to find the best combination of hyperparameters."
   ]
  },
  {
   "cell_type": "code",
   "execution_count": null,
   "id": "0e6f8404",
   "metadata": {},
   "outputs": [],
   "source": []
  },
  {
   "cell_type": "code",
   "execution_count": null,
   "id": "0c07f29d",
   "metadata": {},
   "outputs": [],
   "source": []
  },
  {
   "cell_type": "markdown",
   "id": "1a762f3b",
   "metadata": {},
   "source": [
    "# Model Evaluation\n",
    "Evaluate your model's performance on the testing set, and report any metrics that are relevant to your problem. This might include things like accuracy, precision, recall, F1 score, or ROC-AUC."
   ]
  },
  {
   "cell_type": "code",
   "execution_count": null,
   "id": "c30670fa",
   "metadata": {},
   "outputs": [],
   "source": []
  },
  {
   "cell_type": "markdown",
   "id": "386acea6",
   "metadata": {},
   "source": [
    "# Model Interpretation\n",
    "Finally, interpret your model's results and draw conclusions from your analysis. This might involve analyzing feature importance, visualizing the model's predictions, or exploring the decision boundaries of the model."
   ]
  },
  {
   "cell_type": "code",
   "execution_count": null,
   "id": "03dddda9",
   "metadata": {},
   "outputs": [],
   "source": []
  },
  {
   "cell_type": "code",
   "execution_count": null,
   "id": "09db2aff",
   "metadata": {},
   "outputs": [],
   "source": []
  },
  {
   "cell_type": "markdown",
   "id": "f0f0011a",
   "metadata": {},
   "source": [
    "# Extra Credit \n",
    "Building a model that predicts multiple genres for a song or experimenting with different machine learning algorithms to see which one performs best"
   ]
  },
  {
   "cell_type": "code",
   "execution_count": null,
   "id": "7c3ac4c0",
   "metadata": {},
   "outputs": [],
   "source": []
  },
  {
   "cell_type": "code",
   "execution_count": null,
   "id": "affbc780",
   "metadata": {},
   "outputs": [],
   "source": []
  }
 ],
 "metadata": {
  "kernelspec": {
   "display_name": "Python (base)",
   "language": "python",
   "name": "base"
  },
  "language_info": {
   "codemirror_mode": {
    "name": "ipython",
    "version": 3
   },
   "file_extension": ".py",
   "mimetype": "text/x-python",
   "name": "python",
   "nbconvert_exporter": "python",
   "pygments_lexer": "ipython3",
   "version": "3.9.16"
  }
 },
 "nbformat": 4,
 "nbformat_minor": 5
}
